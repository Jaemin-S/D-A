{
 "cells": [
  {
   "cell_type": "markdown",
   "id": "89cdcd8e",
   "metadata": {
    "id": "89cdcd8e"
   },
   "source": [
    "# Basic Session 4차시 과제"
   ]
  },
  {
   "cell_type": "markdown",
   "id": "ffd14bbd",
   "metadata": {
    "id": "ffd14bbd"
   },
   "source": [
    "## 난이도 하 (35점)"
   ]
  },
  {
   "cell_type": "markdown",
   "id": "595a1ac0",
   "metadata": {
    "id": "595a1ac0"
   },
   "source": [
    "**Q1.** 다음 하위 문제를 푸세요. (총 6점)\n",
    "1) `math`라는 모듈의 `exp`를 불러오세요. (1점)"
   ]
  },
  {
   "cell_type": "code",
   "execution_count": 1,
   "id": "695b8045",
   "metadata": {
    "id": "695b8045"
   },
   "outputs": [],
   "source": [
    "# code here\n",
    "\n",
    "from math import exp"
   ]
  },
  {
   "cell_type": "markdown",
   "id": "81478bc5",
   "metadata": {
    "id": "81478bc5"
   },
   "source": [
    "2) -10에서 10까지의 정수 리스트를 만드세요. (2점)"
   ]
  },
  {
   "cell_type": "code",
   "execution_count": 2,
   "id": "7993e0e2",
   "metadata": {
    "colab": {
     "base_uri": "https://localhost:8080/"
    },
    "id": "7993e0e2",
    "outputId": "e74a744a-c67d-4e91-d3f2-6c8ae86f432f"
   },
   "outputs": [
    {
     "data": {
      "text/plain": [
       "[-10, -9, -8, -7, -6, -5, -4, -3, -2, -1, 0, 1, 2, 3, 4, 5, 6, 7, 8, 9, 10]"
      ]
     },
     "execution_count": 2,
     "metadata": {},
     "output_type": "execute_result"
    }
   ],
   "source": [
    "# code here\n",
    "\n",
    "int_list = list(range(-10, 11))\n",
    "int_list"
   ]
  },
  {
   "cell_type": "markdown",
   "id": "46d27e61",
   "metadata": {
    "id": "46d27e61"
   },
   "source": [
    "3) map과 lambda를 이용하여 $y=\\frac{1}{1+exp(-x)}$인 실수 리스트를 만드세요. (3점)"
   ]
  },
  {
   "cell_type": "code",
   "execution_count": 3,
   "id": "b3f45f8d",
   "metadata": {
    "colab": {
     "base_uri": "https://localhost:8080/"
    },
    "id": "b3f45f8d",
    "outputId": "fa3bd95f-f59e-4107-de9a-fdfd4250d427"
   },
   "outputs": [
    {
     "data": {
      "text/plain": [
       "[4.5397868702434395e-05,\n",
       " 0.00012339457598623172,\n",
       " 0.0003353501304664781,\n",
       " 0.0009110511944006454,\n",
       " 0.0024726231566347743,\n",
       " 0.0066928509242848554,\n",
       " 0.01798620996209156,\n",
       " 0.04742587317756678,\n",
       " 0.11920292202211755,\n",
       " 0.2689414213699951,\n",
       " 0.5,\n",
       " 0.7310585786300049,\n",
       " 0.8807970779778823,\n",
       " 0.9525741268224334,\n",
       " 0.9820137900379085,\n",
       " 0.9933071490757153,\n",
       " 0.9975273768433653,\n",
       " 0.9990889488055994,\n",
       " 0.9996646498695336,\n",
       " 0.9998766054240137,\n",
       " 0.9999546021312976]"
      ]
     },
     "execution_count": 3,
     "metadata": {},
     "output_type": "execute_result"
    }
   ],
   "source": [
    "# code here\n",
    "\n",
    "list(map(lambda x: 1 / (1 + exp(-x)), int_list))"
   ]
  },
  {
   "cell_type": "markdown",
   "id": "9493399a",
   "metadata": {
    "id": "9493399a"
   },
   "source": [
    "**Q2.** 2개의 숫자 x, y를 입력으로 받아 `x*y, x/y`를  튜플 형태로 반환하는 함수를 만드세요. (3점)"
   ]
  },
  {
   "cell_type": "code",
   "execution_count": 4,
   "id": "63c96577",
   "metadata": {
    "id": "63c96577"
   },
   "outputs": [],
   "source": [
    "# code here\n",
    "\n",
    "def my_func(x, y):\n",
    "  return x*y, x/y"
   ]
  },
  {
   "cell_type": "markdown",
   "id": "9cbf171c",
   "metadata": {
    "id": "9cbf171c"
   },
   "source": [
    "**Q3.** 파이썬 내장함수 max를 사용하지 않고 다음 리스트의 원소가 들어왔을 때 가장 큰 값을 반환하는 함수를 만드세요. (5점)"
   ]
  },
  {
   "cell_type": "code",
   "execution_count": 5,
   "id": "95f6afc7",
   "metadata": {
    "id": "95f6afc7"
   },
   "outputs": [],
   "source": [
    "lst = [1, 4, 17, 5, 12, 6, 9]"
   ]
  },
  {
   "cell_type": "code",
   "execution_count": 26,
   "id": "a20bc472",
   "metadata": {
    "colab": {
     "base_uri": "https://localhost:8080/"
    },
    "id": "a20bc472",
    "outputId": "6c3740ff-67f0-48f6-fc1a-ca78dc7d04b8"
   },
   "outputs": [
    {
     "data": {
      "text/plain": [
       "17"
      ]
     },
     "execution_count": 26,
     "metadata": {},
     "output_type": "execute_result"
    }
   ],
   "source": [
    "# code here\n",
    "\n",
    "def my_max(a):\n",
    "  m = a[0]\n",
    "  for n in a:\n",
    "    if m < n:\n",
    "      m = n\n",
    "      \n",
    "  return m\n",
    "\n",
    "\n",
    "my_max(lst)"
   ]
  },
  {
   "cell_type": "markdown",
   "id": "a729e0b5",
   "metadata": {
    "id": "a729e0b5"
   },
   "source": [
    "**Q4.** 가변 매개변수를 사용하여 입력받은 인자가 몇개인지 반환하는 함수를 만들고, x를 임의로 넣어 함수를 실행하세요. (5점)"
   ]
  },
  {
   "cell_type": "code",
   "execution_count": 7,
   "id": "307aeee6",
   "metadata": {
    "colab": {
     "base_uri": "https://localhost:8080/"
    },
    "id": "307aeee6",
    "outputId": "9e075415-c57c-4cba-ccb7-55684464a792"
   },
   "outputs": [
    {
     "data": {
      "text/plain": [
       "8"
      ]
     },
     "execution_count": 7,
     "metadata": {},
     "output_type": "execute_result"
    }
   ],
   "source": [
    "# code here\n",
    "\n",
    "def how_args(*x):\n",
    "  return len(x)\n",
    "\n",
    "\n",
    "how_args(1, 2, 3, 4, 5, 6, 7, 8)"
   ]
  },
  {
   "cell_type": "markdown",
   "id": "8cf815ef",
   "metadata": {
    "id": "8cf815ef"
   },
   "source": [
    "**Q5.** 다음 클래스 코드를 보고 다음 하위 문제를 푸세요. (총 6점)"
   ]
  },
  {
   "cell_type": "code",
   "execution_count": 8,
   "id": "c198512c",
   "metadata": {
    "id": "c198512c"
   },
   "outputs": [],
   "source": [
    "class Smartphone:\n",
    "    smartphone_count = 0\n",
    "    def __init__(self, your_brand):\n",
    "        self.brand = your_brand\n",
    "        Smartphone.smartphone_count += 1\n",
    "    def phone_color(self, your_color):\n",
    "        self.color = your_color"
   ]
  },
  {
   "cell_type": "markdown",
   "id": "daf5976c",
   "metadata": {
    "id": "daf5976c"
   },
   "source": [
    "1) 클래스명을 찾아 쓰세요. (1점)"
   ]
  },
  {
   "cell_type": "code",
   "execution_count": 9,
   "id": "ae9ba133",
   "metadata": {
    "id": "ae9ba133"
   },
   "outputs": [],
   "source": [
    "# 답 : Smartphone"
   ]
  },
  {
   "cell_type": "markdown",
   "id": "c5fe70fb",
   "metadata": {
    "id": "c5fe70fb"
   },
   "source": [
    "2) 클래스 변수와 인스턴스 변수를 찾아 쓰세요. (1점)"
   ]
  },
  {
   "cell_type": "code",
   "execution_count": 10,
   "id": "0bd4309a",
   "metadata": {
    "id": "0bd4309a"
   },
   "outputs": [],
   "source": [
    "# 클래스 변수 : smartphone_count\n",
    "# 인스턴스 변수 : self.brand, self.color"
   ]
  },
  {
   "cell_type": "markdown",
   "id": "4153ad6d",
   "metadata": {
    "id": "4153ad6d"
   },
   "source": [
    "3) 메소드를 찾아 쓰세요. (1점)"
   ]
  },
  {
   "cell_type": "code",
   "execution_count": 11,
   "id": "df467d71",
   "metadata": {
    "id": "df467d71"
   },
   "outputs": [],
   "source": [
    "# 답 : __init__(self, your_brand), phone_color(self, your_color)"
   ]
  },
  {
   "cell_type": "markdown",
   "id": "ea3949f9",
   "metadata": {
    "id": "ea3949f9"
   },
   "source": [
    "4) $a = Smartphone('Samsung')$ 다음과 같이 클래스를 선언하면 코드가 어떻게 돌아가는지 쓰세요. (3점)"
   ]
  },
  {
   "cell_type": "code",
   "execution_count": 12,
   "id": "2aad28b5",
   "metadata": {
    "id": "2aad28b5"
   },
   "outputs": [],
   "source": [
    "# 답 : Smartphone 클래스의 인스턴스 a가 생기고 __init__ 메소드가 실행되어 a의 인스턴스 변수 self.brand가 'Samsung'이 되고 클래스 변수 smartphone_count가 1이 된다."
   ]
  },
  {
   "cell_type": "markdown",
   "id": "15ff2163",
   "metadata": {
    "id": "15ff2163"
   },
   "source": [
    "**Q6.** zip()을 사용하여 ['a','b','c','d']라는 리스트를 {0:'a', 1:'b', 2:'c', 3:'d'}라는 딕셔너리로 바꾸세요. (5점)"
   ]
  },
  {
   "cell_type": "code",
   "execution_count": 13,
   "id": "f91bd75e",
   "metadata": {
    "colab": {
     "base_uri": "https://localhost:8080/"
    },
    "id": "f91bd75e",
    "outputId": "53320976-c824-4dbf-99f0-66667be0e807"
   },
   "outputs": [
    {
     "data": {
      "text/plain": [
       "{0: 'a', 1: 'b', 2: 'c', 3: 'd'}"
      ]
     },
     "execution_count": 13,
     "metadata": {},
     "output_type": "execute_result"
    }
   ],
   "source": [
    "# code here\n",
    "\n",
    "ls1 = ['a', 'b', 'c', 'd']\n",
    "dict(zip([0, 1, 2, 3], ls1))"
   ]
  },
  {
   "cell_type": "markdown",
   "id": "1ea97341",
   "metadata": {
    "id": "1ea97341"
   },
   "source": [
    "**Q7.** enumerate()를 사용하여 ['a','b','c','d']라는 리스트를 {20:'a', 21:'b', 22:'c', 23:'d'}라는 딕셔너리로 바꾸세요. (5점)"
   ]
  },
  {
   "cell_type": "code",
   "execution_count": 14,
   "id": "0b56cec7",
   "metadata": {
    "colab": {
     "base_uri": "https://localhost:8080/"
    },
    "id": "0b56cec7",
    "outputId": "47b06cbc-2d54-4549-d557-852bcd48b38f"
   },
   "outputs": [
    {
     "data": {
      "text/plain": [
       "{20: 'a', 21: 'b', 22: 'c', 23: 'd'}"
      ]
     },
     "execution_count": 14,
     "metadata": {},
     "output_type": "execute_result"
    }
   ],
   "source": [
    "# code here\n",
    "\n",
    "ls2 = ['a', 'b', 'c', 'd']\n",
    "dict(enumerate(ls2, 20))"
   ]
  },
  {
   "cell_type": "markdown",
   "id": "731c1a27",
   "metadata": {
    "id": "731c1a27"
   },
   "source": [
    "## 난이도 중 (25점)"
   ]
  },
  {
   "cell_type": "markdown",
   "id": "bdae1755",
   "metadata": {
    "id": "bdae1755"
   },
   "source": [
    "**Q8.** `장바구니` 딕셔너리는 묶음 단위로 구매한 내역을 입력해놓은 것이다. 귤과 양파는 한 묶음당 여러개가 들어있는데 `귤 묶음 수`는 한 묶음당 귤의 갯수이며, `양파 묶음 수`는 한 묶음당 양파의 갯수이다.  \n",
    "`귤과 양파의 묶음 수`와 `장바구니`를 입력으로 받아 과일과 야채의 갯수를 튜플 형식으로 반환하는 함수를 만들고 결과값을 출력하세요. (9점)\n",
    "\n",
    "    장바구니 = {'귤':3, '사과':2, '딸기':8, '오이':1, '양파':6, '당근':4}\n",
    "    귤 묶음 수 = 3\n",
    "    양파 묶음 수 = 2\n",
    "    \n",
    "<font color=blue> hint : 일반 매개변수와 키워드인자의 packing/unpacking </font>"
   ]
  },
  {
   "cell_type": "code",
   "execution_count": 15,
   "id": "b53c34bd",
   "metadata": {
    "colab": {
     "base_uri": "https://localhost:8080/"
    },
    "id": "b53c34bd",
    "outputId": "ab8fddf1-fc0f-45cc-cccc-c1df6e18b77a"
   },
   "outputs": [
    {
     "data": {
      "text/plain": [
       "(19, 17)"
      ]
     },
     "execution_count": 15,
     "metadata": {},
     "output_type": "execute_result"
    }
   ],
   "source": [
    "# code here\n",
    "\n",
    "장바구니 = {'귤':3, '사과':2, '딸기':8, '오이':1, '양파':6, '당근':4}\n",
    "\n",
    "def how_many(tang, onion, 귤, 사과, 딸기, 오이, 양파, 당근):\n",
    "  # return ('과일', 귤 * tang + 사과 + 딸기), ('야채', 오이 + 양파 * onion + 당근)\n",
    "  return 귤 * tang + 사과 + 딸기, 오이 + 양파 * onion + 당근\n",
    "\n",
    "\n",
    "how_many(3, 2, **장바구니)"
   ]
  },
  {
   "cell_type": "markdown",
   "id": "18d09f83",
   "metadata": {
    "id": "18d09f83"
   },
   "source": [
    "**Q9.** 다음 딕셔너리를 사용하여 하위 문제를 푸세요. (총 16점)"
   ]
  },
  {
   "cell_type": "code",
   "execution_count": 27,
   "id": "5d96ceaf",
   "metadata": {
    "id": "5d96ceaf"
   },
   "outputs": [],
   "source": [
    "member = [\n",
    "    {'name' : '노진구', 'type' : '인간', 'sex' : '남'},\n",
    "    {'name' : '신이슬', 'type' : '인간', 'sex' : '여'},\n",
    "    {'name' : '도라에몽', 'type' : '고양이', 'sex' : '남'},\n",
    "    {'name' : '도라미', 'type' : '고양이', 'sex' : '여'}\n",
    "]"
   ]
  },
  {
   "cell_type": "markdown",
   "id": "c405e519",
   "metadata": {
    "id": "c405e519"
   },
   "source": [
    "1) type이 인간인 경우 name을 성과 이름으로 나누어 튜플로 묶은 후 리스트에 모아 해당 리스트를 반환하는 함수를 정의하고, member를 입력으로 하여 함수의 결과값을 출력하세요. (8점)    \n",
    "\n",
    "    [('노','진구'),('신','이슬')]\n",
    "    \n",
    "<font color=blue> hint : for, if </font>"
   ]
  },
  {
   "cell_type": "code",
   "execution_count": 28,
   "id": "91af4df1",
   "metadata": {
    "colab": {
     "base_uri": "https://localhost:8080/"
    },
    "id": "91af4df1",
    "outputId": "780d1ac7-7ff4-443e-bce5-5c0c8ef0aa09"
   },
   "outputs": [
    {
     "data": {
      "text/plain": [
       "[('노', '진구'), ('신', '이슬')]"
      ]
     },
     "execution_count": 28,
     "metadata": {},
     "output_type": "execute_result"
    }
   ],
   "source": [
    "# code here\n",
    "\n",
    "def person_name(items):\n",
    "  name_list = [(item['name'][0], item['name'][1:]) for item in items if item['type'] == '인간']\n",
    "  return name_list\n",
    "\n",
    "\n",
    "person_name(member)"
   ]
  },
  {
   "cell_type": "markdown",
   "id": "dc18d4a9",
   "metadata": {
    "id": "dc18d4a9"
   },
   "source": [
    "2) member의 sex가 \"남\"이면 \"M\", \"여\"이면 \"F\"로 바꾸세요. (8점)\n",
    "\n",
    "    [{'name' : '노진구', 'type' : '인간', 'sex' : 'M'},\n",
    "     {'name' : '신이슬', 'type' : '인간', 'sex' : 'F'},\n",
    "     {'name' : '도라에몽', 'type' : '고양이', 'sex' : 'M'},\n",
    "     {'name' : '도라미', 'type' : '고양이', 'sex' : 'F'}]"
   ]
  },
  {
   "cell_type": "code",
   "execution_count": 29,
   "id": "79306b0c",
   "metadata": {
    "colab": {
     "base_uri": "https://localhost:8080/"
    },
    "id": "79306b0c",
    "outputId": "a287a94b-4e84-40db-9721-022f967f8217"
   },
   "outputs": [
    {
     "data": {
      "text/plain": [
       "[{'name': '노진구', 'type': '인간', 'sex': 'M'},\n",
       " {'name': '신이슬', 'type': '인간', 'sex': 'F'},\n",
       " {'name': '도라에몽', 'type': '고양이', 'sex': 'M'},\n",
       " {'name': '도라미', 'type': '고양이', 'sex': 'F'}]"
      ]
     },
     "execution_count": 29,
     "metadata": {},
     "output_type": "execute_result"
    }
   ],
   "source": [
    "# code here\n",
    "\n",
    "for m in member:\n",
    "  if m['sex'] == '남':\n",
    "    m['sex'] = 'M'\n",
    "  else:\n",
    "    m['sex'] = 'F'\n",
    "\n",
    "member"
   ]
  },
  {
   "cell_type": "markdown",
   "id": "ee6b4153",
   "metadata": {
    "id": "ee6b4153"
   },
   "source": [
    "## 난이도 상 (40점)"
   ]
  },
  {
   "cell_type": "markdown",
   "id": "8a446121",
   "metadata": {
    "id": "8a446121"
   },
   "source": [
    "**Q10.** 369게임을 사용자정의함수를 이용해 만들고 40까지 출력하세요.  (10점)  \n",
    "\n",
    "    [1, 2, '짝', 4, 5, '짝', 7, 8, '짝', 10, 11, 12, '짝', 14, 15, '짝', 17, 18, '짝', 20, 21, 22, '짝', 24, 25, '짝', 27, 28, '짝', '짝', '짝', '짝', '짝짝', '짝', '짝', '짝짝', '짝', '짝', '짝짝', 40]"
   ]
  },
  {
   "cell_type": "code",
   "execution_count": 19,
   "id": "d269ad42",
   "metadata": {
    "colab": {
     "base_uri": "https://localhost:8080/"
    },
    "id": "d269ad42",
    "outputId": "811495be-22c5-4dce-ba66-0bc59bf2a9b5"
   },
   "outputs": [
    {
     "name": "stdout",
     "output_type": "stream",
     "text": [
      "[1, 2, '짝', 4, 5, '짝', 7, 8, '짝', 10, 11, 12, '짝', 14, 15, '짝', 17, 18, '짝', 20, 21, 22, '짝', 24, 25, '짝', 27, 28, '짝', '짝', '짝', '짝', '짝짝', '짝', '짝', '짝짝', '짝', '짝', '짝짝', 40]\n"
     ]
    }
   ],
   "source": [
    "# code here\n",
    "\n",
    "def threesixnine(n):\n",
    "  ans = []\n",
    "  for num in range(1, n+1):\n",
    "    cnt = 0\n",
    "    for s in str(num):\n",
    "      if s == '3' or s == '6' or s == '9':\n",
    "        cnt += 1\n",
    "    \n",
    "    if cnt == 0:\n",
    "      ans.append(num)\n",
    "    else:\n",
    "      ans.append('짝'*cnt)\n",
    "  return ans\n",
    "\n",
    "\n",
    "print(threesixnine(40))"
   ]
  },
  {
   "cell_type": "markdown",
   "id": "3e6d7a41",
   "metadata": {
    "id": "3e6d7a41"
   },
   "source": [
    "**Q11.** 다음은 학생 명단과 학생들의 점수이다. 학생과 점수를 묶어 dict 형식으로 만들고 점수순대로 정렬하고, 본인이 작성한 코드를 해석하세요. (10점)   \n",
    "    \n",
    "    student = ['짱구','맹구','훈이','철수','유리]\n",
    "    score = [72, 85, 67, 90, 88]\n",
    "    \n",
    "    [결과]\n",
    "    {'훈이': 67, '짱구': 72, '맹구': 85, '유리': 88, '철수': 90}\n",
    "    \n",
    "<font color=blue> hint : 딕셔너리 value 기준으로 정렬, 딕셔너리 컴프리핸션 </font>   "
   ]
  },
  {
   "cell_type": "code",
   "execution_count": 30,
   "id": "13602639",
   "metadata": {
    "colab": {
     "base_uri": "https://localhost:8080/"
    },
    "id": "13602639",
    "outputId": "b9668970-e1e3-485e-a81b-2b810b2c6b1e"
   },
   "outputs": [
    {
     "data": {
      "text/plain": [
       "{'훈이': 67, '짱구': 72, '맹구': 85, '유리': 88, '철수': 90}"
      ]
     },
     "execution_count": 30,
     "metadata": {},
     "output_type": "execute_result"
    }
   ],
   "source": [
    "# code here\n",
    "\n",
    "student = ['짱구','맹구','훈이','철수','유리']\n",
    "score = [72, 85, 67, 90, 88]\n",
    "\n",
    "# zip으로 학생과 점수를 묶고, 그렇게 묶은 것을 람다함수를 사용해서 점수 기준으로 정렬 후, 딕셔너리로 만든다.\n",
    "dict(sorted(zip(student, score), key=lambda x: x[1]))"
   ]
  },
  {
   "cell_type": "markdown",
   "id": "0ab36373",
   "metadata": {
    "id": "0ab36373"
   },
   "source": [
    "**Q12.** 아래의 조건과 같은 class `Race`을 구현하세요. (총 20점)  \n",
    "\n",
    "    조건 1 : car_type, speed, wheel_count 3개의 클래스 변수를 가지며, car_type은 문자형, speed와 wheel_count 숫자형이다. (2점)   \n",
    "       \n",
    "    조건 2 : 각 클래스 변수의 초기값은 car_type은 cycle, speed는 7, wheel_count는 4이다. (3점)   \n",
    "       \n",
    "    조건 3 : car_type을 변경할 수 있는 change라는 메소드를 갖는다. 자동차 번호를 입력받아 변경할 수 있으며 자동차 번호로 0은 cycle, 1은 small_car, 2는 big_car, 3은 racing_car로 변경할 수 있다. 3을 초과할 경우 경고 메세지를 출력한다. (5점)      \n",
    "       \n",
    "    조건 4 : car의 바퀴 수를 설정할 수 있는 car_wheel이라는 메소드를 갖는다. wheel의 수를 입력받아 설정할 수 있으며 car_type이 cycle인 경우 최대 wheel 수는 4이고, 나머지의 경우 최소 wheel 수는 4, 최대 wheel 수는 10이며, 짝수만 가능하다. 조건에 부합하지 않는 경우 경고 메세지를 출력한다. (5점)      \n",
    "       \n",
    "    조건 5 : speed를 조절할 수 있는 car_speed라는 메소드를 갖는다. speed 값을 입력받아 그 값이 양수이면 현재 speed를 그 수만큼 올려주고, 음수이면 현재 speed에서 그 수만큼 줄여준다. 단, speed가 0 이하일 수 없으며, 0 이하가 될 경우 경고 메세지를 출력한다. (5점)"
   ]
  },
  {
   "cell_type": "code",
   "execution_count": 31,
   "id": "ecd3b726",
   "metadata": {
    "id": "ecd3b726"
   },
   "outputs": [],
   "source": [
    "# code here\n",
    "\n",
    "class Race:\n",
    "  car_type = 'cycle'\n",
    "  speed = 7\n",
    "  wheel_count = 4\n",
    "\n",
    "  def change(self, car_number):\n",
    "  #  try:\n",
    "  #    car_number = int(input('자동차 번호를 입력하세요: '))\n",
    "      if car_number > 3:\n",
    "        print('0~3 사이의 숫자를 입력하세요.')\n",
    "        return\n",
    "\n",
    "      if car_number == 0:\n",
    "        Race.car_type = 'cycle'\n",
    "      elif car_number == 1:\n",
    "        Race.car_type = 'small_car'\n",
    "      elif car_number == 2:\n",
    "        Race.car_type = 'big_car'\n",
    "      else:\n",
    "        Race.car_type = 'racing_car'\n",
    "\n",
    "  #  except:\n",
    "  #    print('0~3 사이의 숫자를 입력하세요.')\n",
    "  \n",
    "\n",
    "  def car_wheel(self, wheel):\n",
    "  #  try:\n",
    "  #    wheel = int(input('바퀴 수를 입력하세요: '))\n",
    "\n",
    "      if Race.car_type == 'cycle':\n",
    "        if wheel > 4:\n",
    "          print('cycle의 최대 바퀴 수는 4입니다.')\n",
    "          return\n",
    "\n",
    "      else:\n",
    "        if wheel < 4:\n",
    "          print('최소 바퀴 수는 4입니다.')\n",
    "          return\n",
    "        elif wheel > 10:\n",
    "          print('최대 바퀴 수는 10입니다.')\n",
    "          return\n",
    "        elif wheel % 2 != 0:\n",
    "          print('바퀴 수는 짝수입니다.')\n",
    "          return\n",
    "\n",
    "      Race.wheel_count = wheel\n",
    "\n",
    "  #  except:\n",
    "  #    print('숫자를 입력하세요.')\n",
    "  \n",
    "\n",
    "  def car_speed(self, speed):\n",
    "  #  try:\n",
    "  #    speed = int(input('속도를 입력하세요: '))\n",
    "\n",
    "      if speed > 0:\n",
    "        Race.speed += speed\n",
    "\n",
    "      else:\n",
    "        if Race.speed - speed < 0:\n",
    "          print('속도는 0 이하일 수 없습니다.')\n",
    "          return\n",
    "        Race.speed -= speed\n",
    "\n",
    "  #  except:\n",
    "  #    print('숫자를 입력하세요.')\n",
    "\n",
    "\n"
   ]
  }
 ],
 "metadata": {
  "colab": {
   "collapsed_sections": [],
   "name": "Basic Session 4차시 파이썬 기초3 과제.ipynb",
   "provenance": []
  },
  "kernelspec": {
   "display_name": "Python 3 (ipykernel)",
   "language": "python",
   "name": "python3"
  },
  "language_info": {
   "codemirror_mode": {
    "name": "ipython",
    "version": 3
   },
   "file_extension": ".py",
   "mimetype": "text/x-python",
   "name": "python",
   "nbconvert_exporter": "python",
   "pygments_lexer": "ipython3",
   "version": "3.9.7"
  }
 },
 "nbformat": 4,
 "nbformat_minor": 5
}
